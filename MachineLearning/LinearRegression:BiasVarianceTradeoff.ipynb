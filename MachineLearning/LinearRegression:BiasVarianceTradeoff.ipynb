{
 "cells": [
  {
   "cell_type": "code",
   "execution_count": null,
   "metadata": {},
   "outputs": [],
   "source": [
    "\"\"\"\n",
    "class 13: Bias variance trade-off\n",
    "\n",
    "objectives: \n",
    "\n",
    "1. Understand the problem of ML algorithms.\n",
    "2. How to generalize the learning algorithms.\n",
    "3. Understand the bias-variance trade-off to select the best model that generalizes a common solution.\n",
    "\"\"\""
   ]
  },
  {
   "cell_type": "code",
   "execution_count": null,
   "metadata": {},
   "outputs": [],
   "source": [
    "\"\"\"Problems of ML Algo\n",
    "\n",
    "    1. The model's train performance is good, but the test performance is poor.(Overfitting)\n",
    "    2. The model's train performance is poor, but the test performance is good.(Underfitting)\n",
    "    3. The model's train performance is fairly good, and the test performance is good enough.(GENERALIZATION)\n",
    "    4. The model's train performance is poor, and the test performance is poor. (UNUSABLE)\n",
    "\n",
    "\"\"\""
   ]
  },
  {
   "cell_type": "code",
   "execution_count": null,
   "metadata": {},
   "outputs": [],
   "source": []
  }
 ],
 "metadata": {
  "language_info": {
   "name": "python"
  }
 },
 "nbformat": 4,
 "nbformat_minor": 2
}
