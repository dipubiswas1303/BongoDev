{
 "cells": [
  {
   "cell_type": "markdown",
   "metadata": {},
   "source": [
    "Feature ---> X\n",
    "Labels ---> y\n",
    "Examples ---> (X,y)\n",
    "    Labeled(Supervised ML)\n",
    "    Unlabel(UnsuperVised ML)\n",
    "Feature Engineering\n"
   ]
  },
  {
   "cell_type": "markdown",
   "metadata": {},
   "source": [
    "DATASET \n",
    "    Train 80%\n",
    "    Validation 10%\n",
    "    Test 10%"
   ]
  },
  {
   "cell_type": "markdown",
   "metadata": {},
   "source": [
    "for feature f(X) a prediction will be y -- > f(X) = y\n",
    "\n",
    "\n",
    "an error on prediction is known as loss function. we always try to decrese the losss function.\n"
   ]
  },
  {
   "cell_type": "markdown",
   "metadata": {},
   "source": [
    "ROOT_DIR = (file path)\n",
    "DATA_DIR = os.path.join(ROOT_DIR, \"data\")\n",
    "\n",
    "dataset_file = os.path.join(DATA_DIR, \"name.csv\")\n"
   ]
  },
  {
   "cell_type": "markdown",
   "metadata": {},
   "source": [
    "ML Algo tries to\n",
    "    maximize likelihood\n",
    "    minimize the KL divergence\n",
    "    minimize some cost/ loss/ Objectives function"
   ]
  }
 ],
 "metadata": {
  "language_info": {
   "name": "python"
  }
 },
 "nbformat": 4,
 "nbformat_minor": 2
}
